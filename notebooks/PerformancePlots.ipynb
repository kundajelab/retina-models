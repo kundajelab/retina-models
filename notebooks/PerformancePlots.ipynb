{
 "cells": [
  {
   "cell_type": "code",
   "execution_count": 1,
   "metadata": {},
   "outputs": [],
   "source": [
    "import matplotlib\n",
    "matplotlib.rcParams['pdf.fonttype'] = 42\n",
    "matplotlib.rcParams['ps.fonttype'] = 42\n",
    "\n",
    "import matplotlib.pyplot as plt\n",
    "import json\n",
    "import glob\n",
    "from collections import defaultdict\n",
    "import pandas as pd\n",
    "import seaborn as sns"
   ]
  },
  {
   "cell_type": "code",
   "execution_count": null,
   "metadata": {},
   "outputs": [],
   "source": []
  },
  {
   "cell_type": "code",
   "execution_count": 2,
   "metadata": {},
   "outputs": [
    {
     "name": "stdout",
     "output_type": "stream",
     "text": [
      "Rodbipolar\n",
      "Microglia\n",
      "Mullerglia\n",
      "Astrocyte\n",
      "Rod\n",
      "GABAamacrine\n",
      "ONconebipolar\n",
      "Horizontal\n",
      "Cone\n",
      "AIIamacrine\n",
      "OFFconebipolar\n",
      "Glyamacrine\n",
      "Retinalganglioncell\n"
     ]
    }
   ],
   "source": [
    "ctypes = []\n",
    "FOLDS = 5\n",
    "\n",
    "for x in glob.glob(\"/oak/stanford/groups/akundaje/surag/projects/retina_Howard/models/20220202_bpnet/fold0/saved/*.h5\"):\n",
    "    ctype = x.split(\"/\")[-1].split(\".\")[0]\n",
    "    ctypes.append(ctype)\n",
    "    print(ctype)"
   ]
  },
  {
   "cell_type": "code",
   "execution_count": null,
   "metadata": {},
   "outputs": [],
   "source": []
  },
  {
   "cell_type": "code",
   "execution_count": 3,
   "metadata": {},
   "outputs": [],
   "source": [
    "metrics = defaultdict(dict)\n",
    "\n",
    "for i in range(FOLDS):\n",
    "    for m in ctypes:\n",
    "        with open(\"/oak/stanford/groups/akundaje/surag/projects/retina_Howard/models/20220202_bpnet/fold{}/metrics/{}.metrics.json\".format(i, m)) as f:\n",
    "            metrics[i][m] = json.load(f)"
   ]
  },
  {
   "cell_type": "code",
   "execution_count": 4,
   "metadata": {},
   "outputs": [
    {
     "data": {
      "text/plain": [
       "{'bpnet_cts_pearson_peaks_nonpeaks': 0.6929561780826818,\n",
       " 'bpnet_cts_spearman_peaks_nonpeaks': 0.6762935417448935,\n",
       " 'binary_auc': 0.8105180906101711,\n",
       " 'bpnet_cts_pearson_peaks': 0.6822460332630339,\n",
       " 'bpnet_cts_spearman_peaks': 0.5647475495413053,\n",
       " 'bpnet_profile_median_jsd_peaks': 0.29371089680511064,\n",
       " 'bpnet_profile_median_jsd_peaks_randomized': 0.6880808287923185}"
      ]
     },
     "execution_count": 4,
     "metadata": {},
     "output_type": "execute_result"
    }
   ],
   "source": [
    "metrics[0]['Rod']"
   ]
  },
  {
   "cell_type": "markdown",
   "metadata": {},
   "source": [
    "## Peak + nonpeak Pearson"
   ]
  },
  {
   "cell_type": "code",
   "execution_count": 51,
   "metadata": {},
   "outputs": [],
   "source": [
    "COLORS = ['#1D1A31', '#6CA2EA', '#B5D33D', '#EB7D5B', 'r']"
   ]
  },
  {
   "cell_type": "code",
   "execution_count": 23,
   "metadata": {},
   "outputs": [],
   "source": [
    "peak_nonpeak_pearson_df = []\n",
    "\n",
    "for i in range(FOLDS):\n",
    "    for m in ctypes:\n",
    "        peak_nonpeak_pearson_df.append({\"fold\":i, \n",
    "                                        \"ctype\":m,\n",
    "                                       \"pearson_r\":metrics[i][m]['bpnet_cts_pearson_peaks_nonpeaks']})\n",
    "        \n",
    "peak_nonpeak_pearson_df = pd.DataFrame(peak_nonpeak_pearson_df)"
   ]
  },
  {
   "cell_type": "code",
   "execution_count": 24,
   "metadata": {},
   "outputs": [
    {
     "data": {
      "text/html": [
       "<div>\n",
       "<style scoped>\n",
       "    .dataframe tbody tr th:only-of-type {\n",
       "        vertical-align: middle;\n",
       "    }\n",
       "\n",
       "    .dataframe tbody tr th {\n",
       "        vertical-align: top;\n",
       "    }\n",
       "\n",
       "    .dataframe thead th {\n",
       "        text-align: right;\n",
       "    }\n",
       "</style>\n",
       "<table border=\"1\" class=\"dataframe\">\n",
       "  <thead>\n",
       "    <tr style=\"text-align: right;\">\n",
       "      <th></th>\n",
       "      <th>fold</th>\n",
       "      <th>ctype</th>\n",
       "      <th>pearson_r</th>\n",
       "    </tr>\n",
       "  </thead>\n",
       "  <tbody>\n",
       "    <tr>\n",
       "      <th>0</th>\n",
       "      <td>0</td>\n",
       "      <td>Rodbipolar</td>\n",
       "      <td>0.749658</td>\n",
       "    </tr>\n",
       "    <tr>\n",
       "      <th>1</th>\n",
       "      <td>0</td>\n",
       "      <td>Microglia</td>\n",
       "      <td>0.755856</td>\n",
       "    </tr>\n",
       "    <tr>\n",
       "      <th>2</th>\n",
       "      <td>0</td>\n",
       "      <td>Mullerglia</td>\n",
       "      <td>0.752462</td>\n",
       "    </tr>\n",
       "    <tr>\n",
       "      <th>3</th>\n",
       "      <td>0</td>\n",
       "      <td>Astrocyte</td>\n",
       "      <td>0.747576</td>\n",
       "    </tr>\n",
       "    <tr>\n",
       "      <th>4</th>\n",
       "      <td>0</td>\n",
       "      <td>Rod</td>\n",
       "      <td>0.692956</td>\n",
       "    </tr>\n",
       "  </tbody>\n",
       "</table>\n",
       "</div>"
      ],
      "text/plain": [
       "   fold       ctype  pearson_r\n",
       "0     0  Rodbipolar   0.749658\n",
       "1     0   Microglia   0.755856\n",
       "2     0  Mullerglia   0.752462\n",
       "3     0   Astrocyte   0.747576\n",
       "4     0         Rod   0.692956"
      ]
     },
     "execution_count": 24,
     "metadata": {},
     "output_type": "execute_result"
    }
   ],
   "source": [
    "peak_nonpeak_pearson_df.head()"
   ]
  },
  {
   "cell_type": "code",
   "execution_count": 25,
   "metadata": {},
   "outputs": [],
   "source": [
    "matplotlib.rcParams['figure.figsize'] = 12,4"
   ]
  },
  {
   "cell_type": "code",
   "execution_count": 53,
   "metadata": {},
   "outputs": [
    {
     "data": {
      "text/plain": [
       "[]"
      ]
     },
     "execution_count": 53,
     "metadata": {},
     "output_type": "execute_result"
    },
    {
     "data": {
      "image/png": "[encoded data removed]",
      "text/plain": [
       "<Figure size 864x288 with 1 Axes>"
      ]
     },
     "metadata": {
      "needs_background": "light"
     },
     "output_type": "display_data"
    }
   ],
   "source": [
    "for i in range(FOLDS):\n",
    "    sns.stripplot(x=peak_nonpeak_pearson_df[peak_nonpeak_pearson_df['fold']==i].ctype, \n",
    "                  y=peak_nonpeak_pearson_df[peak_nonpeak_pearson_df['fold']==i].pearson_r, \n",
    "                  color=COLORS[i],\n",
    "                  jitter=True)\n",
    "plt.xticks(rotation=45)\n",
    "plt.title(\"BPNet predicted counts Pearson correlation across 5 folds (peaks + non-peaks)\")\n",
    "plt.xlabel(\"Cell Type\")\n",
    "plt.ylabel(\"Pearson r\")\n",
    "plt.savefig(\"./plots/peaks_nonpeaks_pearson.pdf\",\n",
    "           bbox_inches = \"tight\")\n",
    "plt.plot()"
   ]
  },
  {
   "cell_type": "markdown",
   "metadata": {},
   "source": [
    "## Peaks pearson"
   ]
  },
  {
   "cell_type": "code",
   "execution_count": 28,
   "metadata": {},
   "outputs": [],
   "source": [
    "peak_pearson_df = []\n",
    "\n",
    "for i in range(FOLDS):\n",
    "    for m in ctypes:\n",
    "        peak_pearson_df.append({\"fold\":i, \n",
    "                                        \"ctype\":m,\n",
    "                                       \"pearson_r\":metrics[i][m]['bpnet_cts_pearson_peaks']})\n",
    "        \n",
    "peak_pearson_df = pd.DataFrame(peak_pearson_df)"
   ]
  },
  {
   "cell_type": "code",
   "execution_count": 29,
   "metadata": {},
   "outputs": [
    {
     "data": {
      "text/html": [
       "<div>\n",
       "<style scoped>\n",
       "    .dataframe tbody tr th:only-of-type {\n",
       "        vertical-align: middle;\n",
       "    }\n",
       "\n",
       "    .dataframe tbody tr th {\n",
       "        vertical-align: top;\n",
       "    }\n",
       "\n",
       "    .dataframe thead th {\n",
       "        text-align: right;\n",
       "    }\n",
       "</style>\n",
       "<table border=\"1\" class=\"dataframe\">\n",
       "  <thead>\n",
       "    <tr style=\"text-align: right;\">\n",
       "      <th></th>\n",
       "      <th>fold</th>\n",
       "      <th>ctype</th>\n",
       "      <th>pearson_r</th>\n",
       "    </tr>\n",
       "  </thead>\n",
       "  <tbody>\n",
       "    <tr>\n",
       "      <th>0</th>\n",
       "      <td>0</td>\n",
       "      <td>Rodbipolar</td>\n",
       "      <td>0.699817</td>\n",
       "    </tr>\n",
       "    <tr>\n",
       "      <th>1</th>\n",
       "      <td>0</td>\n",
       "      <td>Microglia</td>\n",
       "      <td>0.788811</td>\n",
       "    </tr>\n",
       "    <tr>\n",
       "      <th>2</th>\n",
       "      <td>0</td>\n",
       "      <td>Mullerglia</td>\n",
       "      <td>0.707307</td>\n",
       "    </tr>\n",
       "    <tr>\n",
       "      <th>3</th>\n",
       "      <td>0</td>\n",
       "      <td>Astrocyte</td>\n",
       "      <td>0.758669</td>\n",
       "    </tr>\n",
       "    <tr>\n",
       "      <th>4</th>\n",
       "      <td>0</td>\n",
       "      <td>Rod</td>\n",
       "      <td>0.682246</td>\n",
       "    </tr>\n",
       "  </tbody>\n",
       "</table>\n",
       "</div>"
      ],
      "text/plain": [
       "   fold       ctype  pearson_r\n",
       "0     0  Rodbipolar   0.699817\n",
       "1     0   Microglia   0.788811\n",
       "2     0  Mullerglia   0.707307\n",
       "3     0   Astrocyte   0.758669\n",
       "4     0         Rod   0.682246"
      ]
     },
     "execution_count": 29,
     "metadata": {},
     "output_type": "execute_result"
    }
   ],
   "source": [
    "peak_pearson_df.head()"
   ]
  },
  {
   "cell_type": "code",
   "execution_count": 30,
   "metadata": {},
   "outputs": [],
   "source": [
    "matplotlib.rcParams['figure.figsize'] = 12,4"
   ]
  },
  {
   "cell_type": "code",
   "execution_count": 54,
   "metadata": {},
   "outputs": [
    {
     "data": {
      "text/plain": [
       "[]"
      ]
     },
     "execution_count": 54,
     "metadata": {},
     "output_type": "execute_result"
    },
    {
     "data": {
      "image/png": "[encoded data removed]",
      "text/plain": [
       "<Figure size 864x288 with 1 Axes>"
      ]
     },
     "metadata": {
      "needs_background": "light"
     },
     "output_type": "display_data"
    }
   ],
   "source": [
    "for i in range(FOLDS):\n",
    "    sns.stripplot(x=peak_pearson_df[peak_pearson_df['fold']==i].ctype, \n",
    "                  y=peak_pearson_df[peak_pearson_df['fold']==i].pearson_r, \n",
    "                  color=COLORS[i],\n",
    "                  jitter=True)\n",
    "\n",
    "plt.xticks(rotation=45)\n",
    "plt.title(\"BPNet predicted counts Pearson correlation across 5 folds (peaks only)\")\n",
    "plt.xlabel(\"Cell Type\")\n",
    "plt.ylabel(\"Pearson r\")\n",
    "plt.savefig(\"./plots/peaks_pearson.pdf\",\n",
    "           bbox_inches = \"tight\")\n",
    "plt.plot()"
   ]
  },
  {
   "cell_type": "markdown",
   "metadata": {},
   "source": [
    "### JSD peaks"
   ]
  },
  {
   "cell_type": "code",
   "execution_count": 36,
   "metadata": {},
   "outputs": [],
   "source": [
    "jsd_df = []\n",
    "\n",
    "for i in range(FOLDS):\n",
    "    for m in ctypes:\n",
    "        jsd_df.append({\"fold\":i, \n",
    "                                \"ctype\":m,\n",
    "                                \"JSD\":metrics[i][m]['bpnet_profile_median_jsd_peaks']})\n",
    "        \n",
    "jsd_df = pd.DataFrame(jsd_df)"
   ]
  },
  {
   "cell_type": "code",
   "execution_count": 37,
   "metadata": {},
   "outputs": [
    {
     "data": {
      "text/html": [
       "<div>\n",
       "<style scoped>\n",
       "    .dataframe tbody tr th:only-of-type {\n",
       "        vertical-align: middle;\n",
       "    }\n",
       "\n",
       "    .dataframe tbody tr th {\n",
       "        vertical-align: top;\n",
       "    }\n",
       "\n",
       "    .dataframe thead th {\n",
       "        text-align: right;\n",
       "    }\n",
       "</style>\n",
       "<table border=\"1\" class=\"dataframe\">\n",
       "  <thead>\n",
       "    <tr style=\"text-align: right;\">\n",
       "      <th></th>\n",
       "      <th>fold</th>\n",
       "      <th>ctype</th>\n",
       "      <th>JSD</th>\n",
       "    </tr>\n",
       "  </thead>\n",
       "  <tbody>\n",
       "    <tr>\n",
       "      <th>0</th>\n",
       "      <td>0</td>\n",
       "      <td>Rodbipolar</td>\n",
       "      <td>0.525024</td>\n",
       "    </tr>\n",
       "    <tr>\n",
       "      <th>1</th>\n",
       "      <td>0</td>\n",
       "      <td>Microglia</td>\n",
       "      <td>0.627609</td>\n",
       "    </tr>\n",
       "    <tr>\n",
       "      <th>2</th>\n",
       "      <td>0</td>\n",
       "      <td>Mullerglia</td>\n",
       "      <td>0.466951</td>\n",
       "    </tr>\n",
       "    <tr>\n",
       "      <th>3</th>\n",
       "      <td>0</td>\n",
       "      <td>Astrocyte</td>\n",
       "      <td>0.644648</td>\n",
       "    </tr>\n",
       "    <tr>\n",
       "      <th>4</th>\n",
       "      <td>0</td>\n",
       "      <td>Rod</td>\n",
       "      <td>0.293711</td>\n",
       "    </tr>\n",
       "  </tbody>\n",
       "</table>\n",
       "</div>"
      ],
      "text/plain": [
       "   fold       ctype       JSD\n",
       "0     0  Rodbipolar  0.525024\n",
       "1     0   Microglia  0.627609\n",
       "2     0  Mullerglia  0.466951\n",
       "3     0   Astrocyte  0.644648\n",
       "4     0         Rod  0.293711"
      ]
     },
     "execution_count": 37,
     "metadata": {},
     "output_type": "execute_result"
    }
   ],
   "source": [
    "jsd_df.head()"
   ]
  },
  {
   "cell_type": "code",
   "execution_count": 38,
   "metadata": {},
   "outputs": [],
   "source": [
    "matplotlib.rcParams['figure.figsize'] = 12,4"
   ]
  },
  {
   "cell_type": "code",
   "execution_count": 39,
   "metadata": {},
   "outputs": [
    {
     "data": {
      "text/plain": [
       "[]"
      ]
     },
     "execution_count": 39,
     "metadata": {},
     "output_type": "execute_result"
    },
    {
     "data": {
      "image/png": "[encoded data removed]",
      "text/plain": [
       "<Figure size 864x288 with 1 Axes>"
      ]
     },
     "metadata": {
      "needs_background": "light"
     },
     "output_type": "display_data"
    }
   ],
   "source": [
    "sns.stripplot(x=jsd_df.ctype, \n",
    "              y=jsd_df.JSD, \n",
    "              jitter=True)\n",
    "plt.xticks(rotation=45)\n",
    "plt.title(\"Counts Pearson correlation peaks only\")\n",
    "plt.xlabel(\"Cell Type\")\n",
    "plt.ylabel(\"JSD\")\n",
    "# plt.savefig(\"./plots/peaks_JSD.pdf\",\n",
    "#            bbox_inches = \"tight\")\n",
    "plt.plot()"
   ]
  },
  {
   "cell_type": "code",
   "execution_count": null,
   "metadata": {},
   "outputs": [],
   "source": []
  },
  {
   "cell_type": "code",
   "execution_count": null,
   "metadata": {},
   "outputs": [],
   "source": []
  }
 ],
 "metadata": {
  "kernelspec": {
   "display_name": "Python 3",
   "language": "python",
   "name": "python3"
  },
  "language_info": {
   "codemirror_mode": {
    "name": "ipython",
    "version": 3
   },
   "file_extension": ".py",
   "mimetype": "text/x-python",
   "name": "python",
   "nbconvert_exporter": "python",
   "pygments_lexer": "ipython3",
   "version": "3.7.8"
  }
 },
 "nbformat": 4,
 "nbformat_minor": 4
}
